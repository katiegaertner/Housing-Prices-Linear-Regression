{
 "cells": [
  {
   "cell_type": "code",
   "execution_count": 2,
   "metadata": {},
   "outputs": [],
   "source": [
    "#import packages\n",
    "import pandas as pd\n",
    "import numpy as np\n",
    "import matplotlib.pyplot as plt\n",
    "import seaborn as sns\n",
    "from sklearn.datasets import load_iris\n",
    "from sklearn.preprocessing import MinMaxScaler\n",
    "\n",
    "#import data\n",
    "homeprices = pd.read_csv('trainprices.csv')"
   ]
  },
  {
   "cell_type": "code",
   "execution_count": 3,
   "metadata": {},
   "outputs": [],
   "source": [
    "y = homeprices['SalePrice']\n",
    "homeprices.drop(['SalePrice'], axis=1, inplace=True)"
   ]
  },
  {
   "cell_type": "code",
   "execution_count": 24,
   "metadata": {},
   "outputs": [],
   "source": [
    "from sklearn.pipeline import make_pipeline\n",
    "from sklearn.pipeline import Pipeline\n",
    "from sklearn.compose import ColumnTransformer\n",
    "from sklearn.impute import SimpleImputer\n",
    "from sklearn.preprocessing import StandardScaler\n",
    "from sklearn.preprocessing import OneHotEncoder\n",
    "from sklearn.linear_model import LinearRegression, Ridge, HuberRegressor, Lasso, ElasticNet, BayesianRidge"
   ]
  },
  {
   "cell_type": "code",
   "execution_count": 26,
   "metadata": {},
   "outputs": [],
   "source": [
    "cat_var = homeprices.select_dtypes(include=['object']).columns.tolist()\n",
    "num_var = homeprices.select_dtypes(exclude=['object']).columns.tolist()"
   ]
  },
  {
   "cell_type": "code",
   "execution_count": 73,
   "metadata": {},
   "outputs": [],
   "source": [
    "numerical_transformer = Pipeline(steps=[\n",
    "    ('imputer', SimpleImputer(strategy='median')),\n",
    "    ('scalar', StandardScaler())])\n",
    "    \n",
    "categorical_transformer = Pipeline(steps=[\n",
    "    ('imputer', SimpleImputer(strategy=\"constant\", fill_value='missing')),\n",
    "    ('onehot', OneHotEncoder(handle_unknown='ignore', sparse=False))])\n",
    "\n",
    "preprocessor = ColumnTransformer(\n",
    "    transformers = [\n",
    "        ('num', numerical_transformer, num_var),\n",
    "        ('cat', categorical_transformer, cat_var) ])"
   ]
  },
  {
   "cell_type": "code",
   "execution_count": 74,
   "metadata": {},
   "outputs": [],
   "source": [
    "pipe_Linear = Pipeline(\n",
    "    steps = [('preprocessor', preprocessor),\n",
    "            ('Linear', LinearRegression())])"
   ]
  },
  {
   "cell_type": "code",
   "execution_count": 75,
   "metadata": {},
   "outputs": [],
   "source": [
    "cleandata = preprocessor.fit_transform(homeprices)"
   ]
  },
  {
   "cell_type": "markdown",
   "metadata": {},
   "source": [
    "## Lasso"
   ]
  },
  {
   "cell_type": "code",
   "execution_count": 43,
   "metadata": {},
   "outputs": [
    {
     "data": {
      "text/plain": [
       "Lasso(alpha=166.84490230495553)"
      ]
     },
     "execution_count": 43,
     "metadata": {},
     "output_type": "execute_result"
    }
   ],
   "source": [
    "from sklearn.linear_model import Lasso\n",
    "from sklearn.linear_model import LassoCV\n",
    "\n",
    "# Lasso with 5 fold cross-validation\n",
    "lassomodel = LassoCV(cv=5, random_state=0, max_iter=10000)\n",
    "lassomodel.fit(cleandata, y)\n",
    "best_alpha = lassomodel.alpha_\n",
    "\n",
    "# Fit model with best alpha\n",
    "lasso_best = Lasso(alpha=best_alpha)\n",
    "lasso_best.fit(cleandata, y)"
   ]
  },
  {
   "cell_type": "code",
   "execution_count": 47,
   "metadata": {},
   "outputs": [],
   "source": [
    "homepricestest = pd.read_csv('testprices.csv')\n",
    "test = pd.DataFrame(homepricestest)\n",
    "cleantestdata = preprocessor.transform(test)"
   ]
  },
  {
   "cell_type": "code",
   "execution_count": 107,
   "metadata": {},
   "outputs": [],
   "source": [
    "test_predictions = lasso_best.predict(cleantestdata)\n",
    "test_predictions\n",
    "predict_lasso = pd.DataFrame(test_predictions)\n",
    "predict_lasso['id'] = test['Id']\n",
    "predict_lasso.columns =['SalePrice', 'Id']\n",
    "predict_lasso = predict_lasso[['Id', 'SalePrice']]"
   ]
  },
  {
   "cell_type": "code",
   "execution_count": 108,
   "metadata": {},
   "outputs": [],
   "source": [
    "predict_lasso.to_csv('gaertnerlassoprediction.csv', index=False)"
   ]
  },
  {
   "cell_type": "markdown",
   "metadata": {},
   "source": [
    "## Ridge"
   ]
  },
  {
   "cell_type": "code",
   "execution_count": 98,
   "metadata": {},
   "outputs": [
    {
     "data": {
      "text/plain": [
       "Ridge(alpha=10.0)"
      ]
     },
     "execution_count": 98,
     "metadata": {},
     "output_type": "execute_result"
    }
   ],
   "source": [
    "from sklearn.linear_model import Ridge\n",
    "from sklearn.linear_model import RidgeCV\n",
    "\n",
    "# Ridge with 5 fold cross-validation\n",
    "ridgemodel = RidgeCV(cv=5)\n",
    "ridgemodel.fit(cleandata, y)\n",
    "best_ridge_alpha = ridgemodel.alpha_\n",
    "\n",
    "# Fit model with best alpha\n",
    "ridge_best = Ridge(alpha=best_ridge_alpha)\n",
    "ridge_best.fit(cleandata, y)"
   ]
  },
  {
   "cell_type": "code",
   "execution_count": 99,
   "metadata": {},
   "outputs": [],
   "source": [
    "ridge_predictions = ridge_best.predict(cleantestdata)\n",
    "predict_ridge = pd.DataFrame(ridge_predictions)\n",
    "predict_ridge['id'] = test['Id']\n",
    "predict_ridge.columns =['SalePrice', 'Id']\n",
    "predict_ridge = predict_ridge[['Id', 'SalePrice']]"
   ]
  },
  {
   "cell_type": "code",
   "execution_count": 101,
   "metadata": {},
   "outputs": [],
   "source": [
    "predict_ridge.to_csv('gaertnerridgepredictionbest.csv', index=False)"
   ]
  },
  {
   "cell_type": "markdown",
   "metadata": {},
   "source": [
    "## ElasticNet"
   ]
  },
  {
   "cell_type": "code",
   "execution_count": 104,
   "metadata": {},
   "outputs": [
    {
     "data": {
      "text/plain": [
       "ElasticNet(alpha=125.63206937374352)"
      ]
     },
     "execution_count": 104,
     "metadata": {},
     "output_type": "execute_result"
    }
   ],
   "source": [
    "from sklearn.linear_model import ElasticNet\n",
    "from sklearn.linear_model import ElasticNetCV\n",
    "\n",
    "# ElasticNet with 5 fold cross-validation\n",
    "enmodel = ElasticNetCV(cv=5)\n",
    "enmodel.fit(cleandata, y)\n",
    "best_en_alpha = enmodel.alpha_\n",
    "\n",
    "# Fit model with best alpha\n",
    "en_best = ElasticNet(alpha=best_en_alpha)\n",
    "en_best.fit(cleandata, y)"
   ]
  },
  {
   "cell_type": "code",
   "execution_count": 105,
   "metadata": {},
   "outputs": [],
   "source": [
    "en_predictions = en_best.predict(cleantestdata)\n",
    "predict_en = pd.DataFrame(en_predictions)\n",
    "predict_en['id'] = test['Id']\n",
    "predict_en.columns =['SalePrice', 'Id']\n",
    "predict_en = predict_en[['Id', 'SalePrice']]"
   ]
  },
  {
   "cell_type": "code",
   "execution_count": 106,
   "metadata": {},
   "outputs": [],
   "source": [
    "predict_en.to_csv('gaertnerelasticnetpredictionbest.csv', index=False)"
   ]
  }
 ],
 "metadata": {
  "kernelspec": {
   "display_name": "Python 3",
   "language": "python",
   "name": "python3"
  },
  "language_info": {
   "codemirror_mode": {
    "name": "ipython",
    "version": 3
   },
   "file_extension": ".py",
   "mimetype": "text/x-python",
   "name": "python",
   "nbconvert_exporter": "python",
   "pygments_lexer": "ipython3",
   "version": "3.8.5"
  }
 },
 "nbformat": 4,
 "nbformat_minor": 4
}
